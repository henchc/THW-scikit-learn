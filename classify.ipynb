{
 "cells": [
  {
   "cell_type": "code",
   "execution_count": 90,
   "metadata": {
    "collapsed": false
   },
   "outputs": [
    {
     "data": {
      "text/plain": [
       "9223372036854775807"
      ]
     },
     "execution_count": 90,
     "metadata": {},
     "output_type": "execute_result"
    }
   ],
   "source": [
    "import os\n",
    "import re\n",
    "import csv\n",
    "import sys\n",
    "import random\n",
    "import ast\n",
    "from time import sleep\n",
    "from pandas import DataFrame, to_numeric\n",
    "import numpy as np\n",
    "from sklearn.feature_extraction.text import CountVectorizer, TfidfTransformer\n",
    "from sklearn.multiclass import OneVsRestClassifier, OneVsOneClassifier\n",
    "from sklearn.svm import LinearSVC\n",
    "from sklearn import metrics, tree, cross_validation\n",
    "from sklearn.naive_bayes import MultinomialNB\n",
    "from sklearn.linear_model import RandomizedLogisticRegression\n",
    "from sklearn.preprocessing import MultiLabelBinarizer\n",
    "\n",
    "csv.field_size_limit(sys.maxsize)"
   ]
  },
  {
   "cell_type": "markdown",
   "metadata": {},
   "source": [
    "## Load and PreProcess"
   ]
  },
  {
   "cell_type": "code",
   "execution_count": 91,
   "metadata": {
    "collapsed": false
   },
   "outputs": [
    {
     "data": {
      "text/plain": [
       "41066"
      ]
     },
     "execution_count": 91,
     "metadata": {},
     "output_type": "execute_result"
    }
   ],
   "source": [
    "# read in full csv\n",
    "recs = []\n",
    "with open('data/upr.csv','r') as csvfile:\n",
    "    reader = csv.DictReader(csvfile)\n",
    "    for row in reader:\n",
    "        recs.append(row)\n",
    "len(recs) # 41066 "
   ]
  },
  {
   "cell_type": "code",
   "execution_count": 92,
   "metadata": {
    "collapsed": false
   },
   "outputs": [],
   "source": [
    "# turn into a list\n",
    "for i in recs:\n",
    "    issues = i['Issue'].split(',')\n",
    "    i['Issue'] = [x for x in issues if x != 'Other' and x != 'General']       "
   ]
  },
  {
   "cell_type": "code",
   "execution_count": 95,
   "metadata": {
    "collapsed": false
   },
   "outputs": [
    {
     "data": {
      "text/plain": [
       "52"
      ]
     },
     "execution_count": 95,
     "metadata": {},
     "output_type": "execute_result"
    }
   ],
   "source": [
    "# test\n",
    "issues = []\n",
    "for i in recs:\n",
    "    for issue in i['Issue']:\n",
    "        if issue in issues:\n",
    "            pass\n",
    "        else:\n",
    "            issues.append(issue)\n",
    "len(issues)"
   ]
  },
  {
   "cell_type": "code",
   "execution_count": 96,
   "metadata": {
    "collapsed": false
   },
   "outputs": [
    {
     "name": "stdout",
     "output_type": "stream",
     "text": [
      "Number of recs: 39475\n"
     ]
    }
   ],
   "source": [
    "# remove empty texts\n",
    "rec_sub = [i for i in recs if i['Issue']]\n",
    "print(\"Number of recs:\", len(rec_sub))"
   ]
  },
  {
   "cell_type": "code",
   "execution_count": 97,
   "metadata": {
    "collapsed": false
   },
   "outputs": [
    {
     "name": "stdout",
     "output_type": "stream",
     "text": [
      "(39475, 2)\n"
     ]
    }
   ],
   "source": [
    "# turn to dataframe\n",
    "data = DataFrame(rec_sub)\n",
    "print(data.shape)"
   ]
  },
  {
   "cell_type": "code",
   "execution_count": 110,
   "metadata": {
    "collapsed": false
   },
   "outputs": [],
   "source": [
    "# get text and label data\n",
    "text = data['Text'].values\n",
    "labels = data['Issue'].values"
   ]
  },
  {
   "cell_type": "code",
   "execution_count": 117,
   "metadata": {
    "collapsed": false
   },
   "outputs": [
    {
     "name": "stdout",
     "output_type": "stream",
     "text": [
      "[[0 1 0 ..., 0 0 0]\n",
      " [0 0 0 ..., 0 0 0]\n",
      " [0 0 0 ..., 0 0 0]\n",
      " ..., \n",
      " [0 0 0 ..., 0 0 0]\n",
      " [0 0 0 ..., 0 0 0]\n",
      " [0 0 0 ..., 0 0 0]]\n"
     ]
    }
   ],
   "source": [
    "# binarize labels\n",
    "mlb = MultiLabelBinarizer()\n",
    "labels_binary = mlb.fit_transform(labels)\n",
    "print(labels_binary)"
   ]
  },
  {
   "cell_type": "code",
   "execution_count": 118,
   "metadata": {
    "collapsed": false
   },
   "outputs": [
    {
     "name": "stdout",
     "output_type": "stream",
     "text": [
      "Number of training data observations: 31580\n"
     ]
    }
   ],
   "source": [
    "# get training + test data\n",
    "X_train, X_test, y_train, y_test = cross_validation.train_test_split(\n",
    "    text, labels_binary, test_size=0.2, random_state=40)\n",
    "print(\"Number of training data observations:\", len(X_train))"
   ]
  },
  {
   "cell_type": "code",
   "execution_count": 121,
   "metadata": {
    "collapsed": false
   },
   "outputs": [
    {
     "name": "stdout",
     "output_type": "stream",
     "text": [
      "['Asylum-seekers - refugees', 'CP rights - general', 'Civil society', 'Corruption', 'Counter-terrorism', 'Death penalty', 'Detention', 'Development', 'Disabilities', 'ESC rights - general', 'Elections', 'Enforced disappearances', 'Environment', 'Extrajudicial executions', 'Freedom of association and peaceful assembly', 'Freedom of movement', 'Freedom of opinion and expression', 'Freedom of religion and belief', 'Freedom of the press', 'HIV - Aids', 'Human rights defenders', 'Human rights education and training', 'Human rights violations by state agents', 'Impunity', 'Indigenous peoples', 'Internally displaced persons', 'International humanitarian law', 'International instruments', 'Justice', 'Labour', 'Migrants', 'Minorities', 'NHRI', 'National plan of action', 'Poverty', 'Public security', 'Racial discrimination', 'Right to education', 'Right to food', 'Right to health', 'Right to housing', 'Right to land', 'Right to water', 'Rights of the Child', 'Sexual Orientation and Gender Identity', 'Special procedures', 'Technical assistance and cooperation', 'Torture and other CID treatment', 'Trafficking', 'Treaty bodies', 'UPR process', \"Women's rights\"]\n"
     ]
    }
   ],
   "source": [
    "# get target (label) names\n",
    "label_names = list(mlb.classes_)\n",
    "print(label_names)"
   ]
  },
  {
   "cell_type": "markdown",
   "metadata": {},
   "source": [
    "## Pipelines"
   ]
  },
  {
   "cell_type": "code",
   "execution_count": 122,
   "metadata": {
    "collapsed": false
   },
   "outputs": [],
   "source": [
    "# build a pipeline - SVC\n",
    "from sklearn.pipeline import Pipeline\n",
    "text_clf = Pipeline([('vect', CountVectorizer(ngram_range=(1, 2))),\n",
    "                    ('tfidf', TfidfTransformer()),\n",
    "                    ('clf', OneVsRestClassifier(LinearSVC(random_state=0)))\n",
    "                     ])"
   ]
  },
  {
   "cell_type": "code",
   "execution_count": 123,
   "metadata": {
    "collapsed": false
   },
   "outputs": [],
   "source": [
    "# fit using pipeline\n",
    "clf = text_clf.fit(X_train, y_train)"
   ]
  },
  {
   "cell_type": "markdown",
   "metadata": {},
   "source": [
    "## Predicting"
   ]
  },
  {
   "cell_type": "code",
   "execution_count": 124,
   "metadata": {
    "collapsed": false
   },
   "outputs": [
    {
     "data": {
      "text/plain": [
       "0.7584547181760608"
      ]
     },
     "execution_count": 124,
     "metadata": {},
     "output_type": "execute_result"
    }
   ],
   "source": [
    "# predict\n",
    "predicted = clf.predict(X_test)\n",
    "clf.score(X_test, y_test) "
   ]
  },
  {
   "cell_type": "code",
   "execution_count": 126,
   "metadata": {
    "collapsed": false
   },
   "outputs": [
    {
     "data": {
      "text/plain": [
       "0.99388853704876501"
      ]
     },
     "execution_count": 126,
     "metadata": {},
     "output_type": "execute_result"
    }
   ],
   "source": [
    "# mean agreement\n",
    "np.mean(predicted == y_test)"
   ]
  },
  {
   "cell_type": "code",
   "execution_count": 131,
   "metadata": {
    "collapsed": false
   },
   "outputs": [
    {
     "name": "stdout",
     "output_type": "stream",
     "text": [
      "\"Take stronger measures to combat discrimination in both the public and private sectors while promoting greater women's participation at the highest levels of decision-making\" => Women's rights\n",
      "'Submit all pending reports to the respective United Nations treaty bodies, namely, the Committee on Economic, Social and Cultural Rights, the Human Rights Committee and the Committee on the Rights of the Child' => ESC rights - general, Treaty bodies\n",
      "'Ratify CRPD' => Disabilities, International instruments\n",
      "'Ensure that the new Constitution fully guarantees the right to freedom of religion or belief and the right to equality and non-discrimination in line with international standards' => Freedom of religion and belief\n",
      "'Establish a moratorium on executions with a view to abolishing the death penalty' => Death penalty\n",
      "'Provide effective guarantee for the rights of Roma in the fields of education, employment and housing' => Minorities, Right to education, Right to housing\n",
      "'Continue intensifying efforts to provide high quality education and medical services to the population, including in remote rural areas' => Right to education, Right to health\n",
      "'Continue its efforts to protect the rights of all foreign workers and members of their families' => Labour, Migrants\n",
      "'Continue to strengthen its efforts to provide for better legal protection for vulnerable groups and to guarantee their rights on the ground.' => \n",
      "'Adopt an effective policy for the integration of migrants' => Migrants\n",
      "'Ensure equal rights between women and men with regard to personal status, employment and education' => Women's rights\n",
      "'Consider reviewing the definition of national minorities in order to bring it into line with international standards, and take targeted measures to eliminate discrimination based on national and ethnic origin' => Minorities\n",
      "'Decriminalize homosexuality by abrogating the legal provisions currently punishing sexual relations between consenting individuals of the same sex, and subscribe to the December 2008 General Assembly Declaration on sexual orientation and human rights' => Sexual Orientation and Gender Identity\n",
      "'Adopt a comprehensive national action plan that a includes clear objectives and tangible measures to implement all human rights - b allocates financial and human resources for each measure envisaged - and c establishes an evaluation mechanism for regular monitoring of the measures' => National plan of action\n",
      "'Examine the possibility of strengthening measures to eliminate all discriminatory treatment related to sexual orientation or gender identity' => Sexual Orientation and Gender Identity\n",
      "'Give effect to the provisions of CAT in national legislation' => International instruments, Torture and other CID treatment\n",
      "'Explore and maximize the benefits from international cooperation and partnerships to support initiatives to combat trafficking in persons, especially women and children' => Rights of the Child, Trafficking, Women's rights\n",
      "'Amend or repeal national laws that discriminate against women and do not prevent violence against women sufficiently, including family laws, laws and procedures related to the authority of guardians of women, nationality laws and housing regulations' => Women's rights\n",
      "'Consider ratifying or acceding to: 1951 Refugee Convention and ILO No. 169 Convention on Indigenous and Tribal Peoples' => Asylum-seekers - refugees, Indigenous peoples, International instruments\n",
      "'Continue implementing socio-economic development strategies and plans in the country, in particular to reduce poverty' => Development, Poverty\n",
      "'Continue to mobilize internal resources and capacity while strengthening cooperation with partners and United Nations agencies to address poverty challenges' => Poverty\n",
      "'Further step up efforts to extend the action plan against domestic violence to cover all forms of violence against women' => Rights of the Child, Women's rights\n",
      "'Stop all ill-treatment, particularly in prisons and improve detention conditions, respecting its obligations under the Convention against Torture and Other Cruel, Inhuman or Degrading Treatment or Punishment and its Optional Protocol' => Detention, International instruments, Torture and other CID treatment\n",
      "'Take further measures to address domestic violence and physical child abuse, including by ensuring adequate reporting of child abuse' => Rights of the Child\n",
      "'Adopt specific measures to guarantee an environment that promotes freedom of expression' => Freedom of opinion and expression\n",
      "'Address discrimination and violence against women through education and specific legislation both in the public and private sectors.' => Women's rights\n",
      "'Ensure that in its family law both spouses have the same rights and responsibilities.' => Women's rights\n",
      "'Strengthen measures to combat trafficking in persons in legislation and in practice' => Trafficking\n",
      "'Ratify and implement the Convention on the Rights of Persons with Disabilities (CRPD)' => Disabilities, International instruments\n",
      "'Recommended continued reform towards the eventual abolition of the death penalty, including greater transparency around its use' => Death penalty\n",
      "'Respond favourably to requests for visits from Special Rapporteurs which have not yet been answered' => Special procedures\n",
      "'Continue its efforts in protecting and promoting the right to safe drinking water and sanitation nationally and globally' => Right to water\n",
      "'Ensure the establishment of a nationally integrated database on trafficking in persons' => Trafficking\n",
      "'Continue the efforts aiming at further promoting the rights of persons with disabilities and increasing their employment and their integration to the labour market' => Disabilities, Labour\n",
      "'Take the appropriate measures to give response to the concerns raised by the civil society' => Civil society\n",
      "'Take the necessary measures to eliminate the discrimination suffered by immigrants, particularly migrant workers' => Labour, Migrants\n",
      "'Issue a standing invitation to the special procedures mandate holders' => Special procedures\n",
      "'Establish an independent civilian authority charged with receiving complaints and investigating allegations of crimes committed by members of the Zimbabwe Republic Police, military and armed forces' => Human rights violations by state agents\n",
      "'Continue efforts to implement the total prohibition of torture and illtreatment by integrating CAT into domestic legislation and ratify OP-CAT' => Detention, International instruments, Torture and other CID treatment\n",
      "'Issue and implement a standing invitation to all special procedures' => Special procedures\n",
      "'Launch a national campaign to combat all forms of marginalisation or discrimination based on gender, religion or ethnicity' => Freedom of religion and belief, Racial discrimination, Women's rights\n",
      "'Take the necessary measures to fight all forms of intolerance and hate speech against persons belonging to minorities' => Minorities, Racial discrimination\n",
      "'Make, until its next UPR review, substantial progress towards fulfilling its reporting obligations, including by requesting technical assistance if needed' => Technical assistance and cooperation, UPR process\n",
      "'Take the necessary steps to ensure impartial access to adequate food, drinking water and other basic necessities for all people within its jurisdiction, including vulnerable groups' => Right to food, Right to water\n",
      "'Ensure that the crime of torture is punished in accordance with the comprehensive definition as contained in Article 1 of the International Convention Against Torture' => International instruments, Torture and other CID treatment\n",
      "'Eradicate in law and in practice the racial and ethnic paradigm in State institutions and the use of ethnicity as a political tool, as noted by the Special Rapporteur on racism' => Racial discrimination, Special procedures\n",
      "'Explicitly prohibit corporal punishment, under any circumstances, for boys and girls' => Rights of the Child, Torture and other CID treatment\n",
      "'Implement further measures to stop female genital mutilation altogether.' => Rights of the Child, Torture and other CID treatment, Women's rights\n",
      "'Set up a monitoring system to ensure the rights of migrants and members of their families, especially rights to housing, employment and education' => Labour, Migrants, Right to education, Right to housing\n",
      "'Amend section 114A of the Evidence Act with the objective of increasing freedom of expression' => Freedom of opinion and expression\n"
     ]
    }
   ],
   "source": [
    "for doc, label in zip(list(X_test[:50]), predicted[:50]):\n",
    "    print('%r => %s' % (doc, \", \".join(list(np.array(label_names)[label==1]))))"
   ]
  },
  {
   "cell_type": "code",
   "execution_count": 133,
   "metadata": {
    "collapsed": false
   },
   "outputs": [
    {
     "name": "stdout",
     "output_type": "stream",
     "text": [
      "                                              precision    recall  f1-score   support\n",
      "\n",
      "                   Asylum-seekers - refugees       0.95      0.80      0.87       120\n",
      "                         CP rights - general       0.88      0.79      0.83       115\n",
      "                               Civil society       0.93      0.88      0.91       155\n",
      "                                  Corruption       0.95      0.85      0.90        47\n",
      "                           Counter-terrorism       1.00      0.65      0.79        26\n",
      "                               Death penalty       0.99      0.94      0.96       379\n",
      "                                   Detention       0.93      0.89      0.91       471\n",
      "                                 Development       0.80      0.58      0.67       179\n",
      "                                Disabilities       0.96      0.95      0.96       283\n",
      "                        ESC rights - general       0.90      0.80      0.85       228\n",
      "                                   Elections       0.95      0.73      0.83        49\n",
      "                     Enforced disappearances       0.96      0.93      0.95       146\n",
      "                                 Environment       0.94      0.55      0.69        31\n",
      "                    Extrajudicial executions       0.97      0.79      0.87        47\n",
      "Freedom of association and peaceful assembly       0.97      0.71      0.82       153\n",
      "                         Freedom of movement       0.92      0.52      0.67        21\n",
      "           Freedom of opinion and expression       0.98      0.86      0.92       271\n",
      "              Freedom of religion and belief       0.91      0.80      0.85       199\n",
      "                        Freedom of the press       0.95      0.86      0.91       206\n",
      "                                  HIV - Aids       1.00      0.89      0.94        57\n",
      "                      Human rights defenders       0.98      0.90      0.94       137\n",
      "         Human rights education and training       0.85      0.81      0.83       327\n",
      "     Human rights violations by state agents       0.81      0.67      0.73        92\n",
      "                                    Impunity       0.94      0.99      0.96        81\n",
      "                          Indigenous peoples       0.99      0.88      0.93       162\n",
      "                Internally displaced persons       1.00      0.74      0.85        39\n",
      "              International humanitarian law       0.89      0.67      0.76        97\n",
      "                   International instruments       0.97      0.96      0.97      1654\n",
      "                                     Justice       0.91      0.74      0.82       655\n",
      "                                      Labour       0.95      0.80      0.87       369\n",
      "                                    Migrants       0.97      0.88      0.92       358\n",
      "                                  Minorities       0.96      0.77      0.85       373\n",
      "                                        NHRI       0.99      0.92      0.95       329\n",
      "                     National plan of action       0.83      0.89      0.86       101\n",
      "                                     Poverty       0.92      0.92      0.92       168\n",
      "                             Public security       0.90      0.17      0.29        52\n",
      "                       Racial discrimination       0.91      0.78      0.84       328\n",
      "                          Right to education       0.87      0.86      0.86       430\n",
      "                               Right to food       0.96      0.82      0.89        57\n",
      "                             Right to health       0.88      0.84      0.86       244\n",
      "                            Right to housing       0.68      0.45      0.54        42\n",
      "                               Right to land       0.70      0.52      0.59        31\n",
      "                              Right to water       0.92      0.85      0.88        40\n",
      "                         Rights of the Child       0.96      0.92      0.94      1470\n",
      "      Sexual Orientation and Gender Identity       1.00      0.94      0.97       187\n",
      "                          Special procedures       0.99      0.95      0.97       297\n",
      "        Technical assistance and cooperation       0.84      0.74      0.79       199\n",
      "             Torture and other CID treatment       0.97      0.95      0.96       615\n",
      "                                 Trafficking       0.99      0.95      0.97       288\n",
      "                               Treaty bodies       0.94      0.87      0.91       230\n",
      "                                 UPR process       0.90      0.80      0.85       111\n",
      "                              Women's rights       0.97      0.94      0.96      1511\n",
      "\n",
      "                                 avg / total       0.94      0.87      0.91     14257\n",
      "\n"
     ]
    }
   ],
   "source": [
    "# print metrics\n",
    "print(metrics.classification_report(y_test, predicted,\n",
    "    target_names=label_names)) "
   ]
  },
  {
   "cell_type": "code",
   "execution_count": 136,
   "metadata": {
    "collapsed": false
   },
   "outputs": [
    {
     "data": {
      "text/plain": [
       "array([ 0.74122863,  0.73552882,  0.7409753 ,  0.72868904,  0.74756175])"
      ]
     },
     "execution_count": 136,
     "metadata": {},
     "output_type": "execute_result"
    }
   ],
   "source": [
    "## cross validation\n",
    "scores = cross_validation.cross_val_score(\n",
    "   text_clf, text, labels_binary, cv=5)\n",
    "scores"
   ]
  },
  {
   "cell_type": "code",
   "execution_count": 156,
   "metadata": {
    "collapsed": false
   },
   "outputs": [
    {
     "data": {
      "text/plain": [
       "11.443923457103029"
      ]
     },
     "execution_count": 156,
     "metadata": {},
     "output_type": "execute_result"
    }
   ],
   "source": [
    "from sklearn.metrics import coverage_error\n",
    "coverage_error(y_test, predicted)"
   ]
  },
  {
   "cell_type": "markdown",
   "metadata": {},
   "source": [
    "## Parameters"
   ]
  },
  {
   "cell_type": "code",
   "execution_count": 137,
   "metadata": {
    "collapsed": false
   },
   "outputs": [],
   "source": [
    "from sklearn.grid_search import GridSearchCV\n",
    "parameters = {'vect__ngram_range': [(1, 1), (1, 2), (1,3)],\n",
    "              'tfidf__use_idf': (True, False),\n",
    "}"
   ]
  },
  {
   "cell_type": "code",
   "execution_count": 138,
   "metadata": {
    "collapsed": true
   },
   "outputs": [],
   "source": [
    "gs_clf = GridSearchCV(text_clf, parameters, n_jobs=-1)"
   ]
  },
  {
   "cell_type": "code",
   "execution_count": 139,
   "metadata": {
    "collapsed": false
   },
   "outputs": [],
   "source": [
    "gs_clf = gs_clf.fit(X_train, y_train)"
   ]
  },
  {
   "cell_type": "code",
   "execution_count": 140,
   "metadata": {
    "collapsed": false
   },
   "outputs": [
    {
     "name": "stdout",
     "output_type": "stream",
     "text": [
      "tfidf__use_idf: True\n",
      "vect__ngram_range: (1, 2)\n"
     ]
    }
   ],
   "source": [
    "best_parameters, score, _ = max(gs_clf.grid_scores_, key=lambda x: x[1])\n",
    "for param_name in sorted(parameters.keys()):\n",
    "    print(\"%s: %r\" % (param_name, best_parameters[param_name]))"
   ]
  },
  {
   "cell_type": "code",
   "execution_count": 141,
   "metadata": {
    "collapsed": false
   },
   "outputs": [
    {
     "data": {
      "text/plain": [
       "0.7328372387587081"
      ]
     },
     "execution_count": 141,
     "metadata": {},
     "output_type": "execute_result"
    }
   ],
   "source": [
    "score"
   ]
  },
  {
   "cell_type": "code",
   "execution_count": 142,
   "metadata": {
    "collapsed": false
   },
   "outputs": [
    {
     "data": {
      "text/plain": [
       "[mean: 0.72970, std: 0.00508, params: {'tfidf__use_idf': True, 'vect__ngram_range': (1, 1)},\n",
       " mean: 0.73284, std: 0.00197, params: {'tfidf__use_idf': True, 'vect__ngram_range': (1, 2)},\n",
       " mean: 0.72217, std: 0.00214, params: {'tfidf__use_idf': True, 'vect__ngram_range': (1, 3)},\n",
       " mean: 0.71482, std: 0.00466, params: {'tfidf__use_idf': False, 'vect__ngram_range': (1, 1)},\n",
       " mean: 0.72289, std: 0.00223, params: {'tfidf__use_idf': False, 'vect__ngram_range': (1, 2)},\n",
       " mean: 0.72131, std: 0.00241, params: {'tfidf__use_idf': False, 'vect__ngram_range': (1, 3)}]"
      ]
     },
     "execution_count": 142,
     "metadata": {},
     "output_type": "execute_result"
    }
   ],
   "source": [
    "gs_clf.grid_scores_"
   ]
  },
  {
   "cell_type": "code",
   "execution_count": null,
   "metadata": {
    "collapsed": true
   },
   "outputs": [],
   "source": []
  }
 ],
 "metadata": {
  "kernelspec": {
   "display_name": "Python 3",
   "language": "python",
   "name": "python3"
  },
  "language_info": {
   "codemirror_mode": {
    "name": "ipython",
    "version": 3
   },
   "file_extension": ".py",
   "mimetype": "text/x-python",
   "name": "python",
   "nbconvert_exporter": "python",
   "pygments_lexer": "ipython3",
   "version": "3.4.3"
  }
 },
 "nbformat": 4,
 "nbformat_minor": 0
}
